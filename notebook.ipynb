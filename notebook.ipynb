{
 "cells": [
  {
   "cell_type": "markdown",
   "metadata": {},
   "source": [
    "<h1>Preliminaries</h1>\n",
    "<p>This codebase was originally created at Facebook by the team behind the following paper:</p>\n",
    "<p><strong>Radioactive data: tracing through training</strong><br />\n",
    "    <a href=\"https://arxiv.org/pdf/2002.00937.pdf\">https://arxiv.org/pdf/2002.00937.pdf</a>\n",
    "        </p>\n",
    "    \n",
    "<p>We have made some quality of life changes and created this notebook to help others learn faster. The demonstration\n",
    "will: </p>\n",
    "   <ol>\n",
    "       <li>Mark a certain subset of the CIFAR10 dataset (target data) using a resnet18 pretrained on imagenet (marking network)</li>\n",
    "       <li>Use the modified CIFAR10 dataset to train a new resnet18 (target network)</li>\n",
    "       <li>Attempt to detect radioactivity in the target network</li>\n",
    "    </ol>\n",
    "</p>\n",
    "<p><strong>Note:</strong><br/>\n",
    "In our example the marking network is pretrained on imagenet, while our target data is CIFAR10.\n",
    "According to section 5.5 of the paper, even a marking network trained on a different\n",
    "data distribution will output radioactive markings that are useful when applied to at least 10% of the dataset. \n",
    "This number could vary, we are just quoting the minimum radioactive data percentage shown in the paper. </p>\n",
    "<p>If the marking network was trained on the same data distribution it is likely that a lower percentage of the\n",
    "   target data would require marking to achieve the same p value in the detection stage.</p>"
   ]
  },
  {
   "cell_type": "markdown",
   "metadata": {},
   "source": [
    "<h1>Creating Radioactive Data (Image Marking)</h1>"
   ]
  },
  {
   "cell_type": "markdown",
   "metadata": {},
   "source": [
    "<h2>Prepare Dataset</h2>\n",
    "<p>First we download the CIFAR10 dataset which has 10 classes.</p>\n",
    "<p>Then we randomly choose an image class and sample a certain percentage of the images for saving to \"img/data\".</p>\n",
    "<p>After saving these images to \"img/data\" we also save a list of image paths to pass into <em>make_data_radioactive.py</em>.</p>\n",
    "<p>Currently <em>make_data_radioactive.py</em> doesn't support multi-class, so we only sample from a chosen class of images.</p>"
   ]
  },
  {
   "cell_type": "code",
   "execution_count": 160,
   "metadata": {},
   "outputs": [
    {
     "name": "stdout",
     "output_type": "stream",
     "text": [
      "Files already downloaded and verified\n",
      "Randomly selected image class 5 (dog)\n",
      "Saving 50 images randomly sampled from class.\n"
     ]
    },
    {
     "name": "stderr",
     "output_type": "stream",
     "text": [
      "100%|████████████████████████████████████████████████████████████████████████████████| 50/50 [00:00<00:00, 1134.97it/s]\n"
     ]
    }
   ],
   "source": [
    "import torchvision\n",
    "import torch\n",
    "import random\n",
    "import PIL\n",
    "import os\n",
    "import shutil\n",
    "import tqdm\n",
    "\n",
    "target_data_classes = 10 # 10 for CIFAR10 data\n",
    "\n",
    "# Download CIFAR10 dataset\n",
    "train_set = torchvision.datasets.CIFAR10(root=\"data/datasets\", download=True)\n",
    "\n",
    "# Index images by class\n",
    "images_by_class = []\n",
    "for x in range(0, target_data_classes):\n",
    "    images_by_class.append([])\n",
    "\n",
    "for index, (img, label) in enumerate(train_set):\n",
    "    images_by_class[label].append(index)\n",
    "\n",
    "# Randomly choose an image class\n",
    "chosen_image_class = random.choice(list(range(0, target_data_classes)))\n",
    "print(f\"Randomly selected image class {chosen_image_class} ({train_set.classes[chosen_image_class]})\", flush=True)\n",
    "\n",
    "# Randomly sample images from that class\n",
    "data_marking_percentage = 1\n",
    "total_marked_in_class = int(len(images_by_class[chosen_image_class]) * (data_marking_percentage / 100))\n",
    "train_marked_indexes = random.sample(images_by_class[chosen_image_class], total_marked_in_class)\n",
    "\n",
    "# Save these images for marking to /data/img and build list file\n",
    "image_dir_path = \"data/img\"\n",
    "shutil.rmtree(image_dir_path, ignore_errors=True)\n",
    "os.makedirs(image_dir_path)\n",
    "\n",
    "print(f\"Saving {total_marked_in_class} images randomly sampled from class.\", flush=True)\n",
    "image_list = []\n",
    "for i in tqdm.tqdm(train_marked_indexes):\n",
    "    image, _ = train_set[i]\n",
    "    image_path = f\"{image_dir_path}/train_{i}.png\"\n",
    "    with open(image_path, 'wb') as fh:\n",
    "        img = image.save(fh)\n",
    "    image_list.append(image_path)\n",
    "     \n",
    "train_image_list_path = \"data/train_img_list.txt\"\n",
    "torch.save(image_list, train_image_list_path)"
   ]
  },
  {
   "cell_type": "markdown",
   "metadata": {},
   "source": [
    "<h2>Download Marking Network And Save For Later</h2>\n",
    "<p>The below confused me at first. All <em>make_data_radioactive.py</em> is doing is spooling up a new\n",
    "torchvision.models.[architecture](marking_network_classes) and loading the state dictionary from the pretrained model, in\n",
    "this case trained on ImageNet with 1000 classes. After this occurs the fully connected layer is just removed anyway.\n",
    "</p>"
   ]
  },
  {
   "cell_type": "code",
   "execution_count": 161,
   "metadata": {},
   "outputs": [
    {
     "name": "stdout",
     "output_type": "stream",
     "text": [
      "Marking network saved\n"
     ]
    }
   ],
   "source": [
    "import torch\n",
    "from torchvision import models\n",
    "\n",
    "marking_network_output_dim_pre_classifier = 512 # Used Further On\n",
    "marking_network_classes = 1000\n",
    "\n",
    "resnet18 = models.resnet18(pretrained=True)\n",
    "torch.save({\n",
    "    \"model\": resnet18.state_dict(),\n",
    "    \"params\": {\n",
    "      \"architecture\": \"resnet18\",\n",
    "      \"num_classes\": marking_network_classes,\n",
    "    }\n",
    "  }, \"data/pretrained_resnet18.pth\")\n",
    "print(\"Marking network saved\")"
   ]
  },
  {
   "cell_type": "markdown",
   "metadata": {},
   "source": [
    "<h2>Create Random Carriers</h2>\n",
    "<p>Generates a random array of shape (target_data_classes, marking_network_output_dim_pre_classifier). \n",
    "In terms of the paper, this would be a concatenation of a random vector u for each class, see section 3 for details. The code in <em>make_data_radioactive.py</em> currently doesn't support multi-class, so it just slices this array to get a single random u.</p>"
   ]
  },
  {
   "cell_type": "code",
   "execution_count": 162,
   "metadata": {},
   "outputs": [
    {
     "name": "stdout",
     "output_type": "stream",
     "text": [
      "Carrier Shape: torch.Size([10, 512])\n"
     ]
    }
   ],
   "source": [
    "import torch\n",
    "\n",
    "carriers = torch.randn(target_data_classes, marking_network_output_dim_pre_classifier)\n",
    "carriers /= torch.norm(carriers, dim=1, keepdim=True)\n",
    "print(\"Carrier Shape:\", carriers.shape)\n",
    "torch.save(carriers, \"data/carriers.pth\")"
   ]
  },
  {
   "cell_type": "markdown",
   "metadata": {},
   "source": [
    "<h2>Run make_data_radioactive.py</h2>\n",
    "<p>The original code used input parameters but I have converted this to a config file out of taste preference.</p>\n",
    "<p><strong>img_list</strong> must be the same as <strong>train_image_list_path</strong> above</p> <br/><strong>carrier_id</strong> is irrelevant as multi-class is not currently supported, by setting it to 0 we just grab the first random u vector out of the carriers array created above.\n",
    "\n",
    "<p>Training (marking) will take about 10 minutes for 50 CIFAR images on a quad core CPU @ 4ghz. GPU would be way faster.</p>"
   ]
  },
  {
   "cell_type": "code",
   "execution_count": 163,
   "metadata": {},
   "outputs": [],
   "source": [
    "import shutil\n",
    "\n",
    "# Clear the experiment directory\n",
    "dump_path = \"data/dump\"\n",
    "shutil.rmtree(dump_path, ignore_errors=True)"
   ]
  },
  {
   "cell_type": "code",
   "execution_count": 164,
   "metadata": {},
   "outputs": [
    {
     "name": "stdout",
     "output_type": "stream",
     "text": [
      "Overwriting config_make_radioactive.toml\n"
     ]
    }
   ],
   "source": [
    "%%writefile config_make_radioactive.toml\n",
    "dump_path = \"data/dump\"\n",
    "exp_name = \"bypass\"\n",
    "exp_id = \"\"\n",
    "img_size = 256\n",
    "crop_size = 224\n",
    "data_augmentation = \"random\"\n",
    "radius = 10\n",
    "epochs = 90\n",
    "lambda_ft_l2 = 0.01\n",
    "lambda_l2_img = 0.0005\n",
    "optimizer = \"sgd,lr=1.0\"\n",
    "carrier_path = \"data/carriers.pth\"\n",
    "carrier_id = 0\n",
    "half_cone = true\n",
    "img_list = \"data/train_img_list.txt\"\n",
    "img_paths = \":\"\n",
    "marking_network = \"data/pretrained_resnet18.pth\"\n",
    "debug_train = false\n",
    "debug_slurm = false\n",
    "debug = false\n",
    "batch_size = 50\n"
   ]
  },
  {
   "cell_type": "code",
   "execution_count": 165,
   "metadata": {
    "scrolled": false
   },
   "outputs": [
    {
     "name": "stderr",
     "output_type": "stream",
     "text": [
      "INFO - 08/29/20 07:25:18 - 0:00:00 - ============ Initialized logger ============\n",
      "INFO - 08/29/20 07:25:18 - 0:00:00 - angle: None\n",
      "                                     batch_size: 50\n",
      "                                     carrier_id: 0\n",
      "                                     carrier_path: data/carriers.pth\n",
      "                                     command: python make_data_radioactive.py --exp_id \"dump\"\n",
      "                                     crop_size: 224\n",
      "                                     data_augmentation: random\n",
      "                                     debug: False\n",
      "                                     debug_slurm: False\n",
      "                                     debug_train: False\n",
      "                                     dump_path: data\\dump\n",
      "                                     epochs: 90\n",
      "                                     exp_id: dump\n",
      "                                     exp_name: bypass\n",
      "                                     half_cone: True\n",
      "                                     img_list: data/train_img_list.txt\n",
      "                                     img_paths: :\n",
      "                                     img_size: 256\n",
      "                                     lambda_ft_l2: 0.01\n",
      "                                     lambda_l2_img: 0.0005\n",
      "                                     marking_network: data/pretrained_resnet18.pth\n",
      "                                     optimizer: sgd,lr=1.0\n",
      "                                     radius: 10\n",
      "INFO - 08/29/20 07:25:18 - 0:00:00 - The experiment will be stored in data\\dump\n",
      "                                     \n",
      "INFO - 08/29/20 07:25:18 - 0:00:00 - Running command: python make_data_radioactive.py\n",
      "\n",
      "INFO - 08/29/20 07:25:18 - 0:00:00 - CUDA Available? False\n",
      "INFO - 08/29/20 07:25:18 - 0:00:00 - Image paths ['data/img/train_9491.png', 'data/img/train_9547.png', 'data/img/train_2064.png', 'data/img/train_1244.png', 'data/img/train_7518.png', 'data/img/train_18194.png', 'data/img/train_6220.png', 'data/img/train_27859.png', 'data/img/train_46143.png', 'data/img/train_988.png', 'data/img/train_34132.png', 'data/img/train_12825.png', 'data/img/train_34954.png', 'data/img/train_29398.png', 'data/img/train_29304.png', 'data/img/train_46676.png', 'data/img/train_43075.png', 'data/img/train_39603.png', 'data/img/train_21266.png', 'data/img/train_43025.png', 'data/img/train_3917.png', 'data/img/train_20733.png', 'data/img/train_18001.png', 'data/img/train_27514.png', 'data/img/train_18883.png', 'data/img/train_424.png', 'data/img/train_2305.png', 'data/img/train_2167.png', 'data/img/train_21709.png', 'data/img/train_30072.png', 'data/img/train_732.png', 'data/img/train_1411.png', 'data/img/train_43056.png', 'data/img/train_34877.png', 'data/img/train_44112.png', 'data/img/train_35410.png', 'data/img/train_33269.png', 'data/img/train_39441.png', 'data/img/train_12371.png', 'data/img/train_17399.png', 'data/img/train_45125.png', 'data/img/train_39893.png', 'data/img/train_13112.png', 'data/img/train_6024.png', 'data/img/train_34859.png', 'data/img/train_7560.png', 'data/img/train_15672.png', 'data/img/train_1928.png', 'data/img/train_535.png', 'data/img/train_29562.png']\n",
      "INFO - 08/29/20 07:25:18 - 0:00:00 - Loading network 'data/pretrained_resnet18.pth' to device\n",
      "INFO - 08/29/20 07:25:19 - 0:00:00 - Marking network architecture: resnet18\n",
      "INFO - 08/29/20 07:25:19 - 0:00:00 - Marking network original classes: 1000\n",
      "INFO - 08/29/20 07:25:19 - 0:00:00 - Removing fully connected layer from marking network.\n",
      "INFO - 08/29/20 07:25:19 - 0:00:00 - Loading Images to Tensor and running NORMALIZE_IMAGENET\n",
      "INFO - 08/29/20 07:25:19 - 0:00:00 - Loading randomised carrier from 'data/carriers.pth' to device and slicing\n",
      "INFO - 08/29/20 07:25:19 - 0:00:00 - Carrier Shape: torch.Size([1, 512])\n",
      "INFO - 08/29/20 07:25:19 - 0:00:00 - Chosen image augmentation for training: RandomResizedCropFlip\n",
      "INFO - 08/29/20 07:25:19 - 0:00:00 - Enabling gradient on the images\n",
      "INFO - 08/29/20 07:25:19 - 0:00:00 - Schedule of sgd,lr=1.0: None\n",
      "INFO - 08/29/20 07:25:19 - 0:00:00 - Center Cropping Images and sending to device\n",
      "INFO - 08/29/20 07:25:19 - 0:00:00 - Running model on center cropped images to obtain original features\n",
      "INFO - 08/29/20 07:25:21 - 0:00:02 - Commence training (marking image)\n",
      "INFO - 08/29/20 07:25:21 - 0:00:02 - Augmenting images\n",
      "INFO - 08/29/20 07:25:26 - 0:00:08 - __log__:{\"keyword\": \"iteration\", \"loss\": 4.767834186553955, \"loss_ft\": -1.7223262786865234, \"loss_norm\": 0.0, \"loss_ft_l2\": 6.4901604652404785}\n",
      "INFO - 08/29/20 07:25:26 - 0:00:08 - Augmenting images\n",
      "INFO - 08/29/20 07:25:32 - 0:00:14 - __log__:{\"keyword\": \"iteration\", \"loss\": -2.793835163116455, \"loss_ft\": -10.39297866821289, \"loss_norm\": 0.22284375131130219, \"loss_ft_l2\": 7.3762993812561035}\n",
      "INFO - 08/29/20 07:25:32 - 0:00:14 - Augmenting images\n",
      "INFO - 08/29/20 07:25:38 - 0:00:19 - __log__:{\"keyword\": \"iteration\", \"loss\": -10.734795570373535, \"loss_ft\": -19.21537208557129, \"loss_norm\": 0.38559266924858093, \"loss_ft_l2\": 8.094983100891113}\n",
      "INFO - 08/29/20 07:25:38 - 0:00:19 - Augmenting images\n",
      "INFO - 08/29/20 07:25:44 - 0:00:26 - __log__:{\"keyword\": \"iteration\", \"loss\": -18.05910873413086, \"loss_ft\": -26.748483657836914, \"loss_norm\": 0.49062061309814453, \"loss_ft_l2\": 8.198753356933594}\n",
      "INFO - 08/29/20 07:25:44 - 0:00:26 - Augmenting images\n",
      "INFO - 08/29/20 07:25:51 - 0:00:32 - __log__:{\"keyword\": \"iteration\", \"loss\": -26.241382598876953, \"loss_ft\": -35.224143981933594, \"loss_norm\": 0.5707725882530212, \"loss_ft_l2\": 8.411988258361816}\n",
      "INFO - 08/29/20 07:25:51 - 0:00:32 - Augmenting images\n",
      "INFO - 08/29/20 07:25:57 - 0:00:39 - __log__:{\"keyword\": \"iteration\", \"loss\": -34.18913650512695, \"loss_ft\": -43.27665710449219, \"loss_norm\": 0.6372528076171875, \"loss_ft_l2\": 8.450268745422363}\n",
      "INFO - 08/29/20 07:25:57 - 0:00:39 - Augmenting images\n",
      "INFO - 08/29/20 07:26:04 - 0:00:46 - __log__:{\"keyword\": \"iteration\", \"loss\": -40.75249481201172, \"loss_ft\": -49.84061813354492, \"loss_norm\": 0.6904148459434509, \"loss_ft_l2\": 8.39770793914795}\n",
      "INFO - 08/29/20 07:26:04 - 0:00:46 - Augmenting images\n",
      "INFO - 08/29/20 07:26:11 - 0:00:52 - __log__:{\"keyword\": \"iteration\", \"loss\": -44.1666259765625, \"loss_ft\": -53.610084533691406, \"loss_norm\": 0.7329928278923035, \"loss_ft_l2\": 8.710463523864746}\n",
      "INFO - 08/29/20 07:26:11 - 0:00:52 - Augmenting images\n",
      "INFO - 08/29/20 07:26:17 - 0:00:58 - __log__:{\"keyword\": \"iteration\", \"loss\": -44.38201141357422, \"loss_ft\": -53.871402740478516, \"loss_norm\": 0.7758641242980957, \"loss_ft_l2\": 8.713528633117676}\n",
      "INFO - 08/29/20 07:26:17 - 0:00:58 - Augmenting images\n",
      "INFO - 08/29/20 07:26:23 - 0:01:05 - __log__:{\"keyword\": \"iteration\", \"loss\": -53.32564926147461, \"loss_ft\": -62.85741424560547, \"loss_norm\": 0.8086302876472473, \"loss_ft_l2\": 8.723132133483887}\n",
      "INFO - 08/29/20 07:26:23 - 0:01:05 - Augmenting images\n",
      "INFO - 08/29/20 07:26:30 - 0:01:11 - __log__:{\"keyword\": \"iteration\", \"loss\": -50.909996032714844, \"loss_ft\": -60.26778793334961, \"loss_norm\": 0.8328931927680969, \"loss_ft_l2\": 8.52489948272705}\n",
      "INFO - 08/29/20 07:26:30 - 0:01:11 - Augmenting images\n",
      "INFO - 08/29/20 07:26:36 - 0:01:17 - __log__:{\"keyword\": \"iteration\", \"loss\": -51.33711242675781, \"loss_ft\": -60.86532211303711, \"loss_norm\": 0.8485483527183533, \"loss_ft_l2\": 8.679661750793457}\n",
      "INFO - 08/29/20 07:26:36 - 0:01:17 - Augmenting images\n",
      "INFO - 08/29/20 07:26:42 - 0:01:23 - __log__:{\"keyword\": \"iteration\", \"loss\": -56.26787567138672, \"loss_ft\": -65.59149169921875, \"loss_norm\": 0.8717225790023804, \"loss_ft_l2\": 8.451895713806152}\n",
      "INFO - 08/29/20 07:26:42 - 0:01:23 - Augmenting images\n",
      "INFO - 08/29/20 07:26:48 - 0:01:30 - __log__:{\"keyword\": \"iteration\", \"loss\": -65.25228118896484, \"loss_ft\": -74.6494140625, \"loss_norm\": 0.8910788893699646, \"loss_ft_l2\": 8.506054878234863}\n",
      "INFO - 08/29/20 07:26:48 - 0:01:30 - Augmenting images\n",
      "INFO - 08/29/20 07:26:54 - 0:01:36 - __log__:{\"keyword\": \"iteration\", \"loss\": -61.20526885986328, \"loss_ft\": -70.98723602294922, \"loss_norm\": 0.9121742248535156, \"loss_ft_l2\": 8.86978816986084}\n",
      "INFO - 08/29/20 07:26:54 - 0:01:36 - Augmenting images\n",
      "INFO - 08/29/20 07:27:00 - 0:01:42 - __log__:{\"keyword\": \"iteration\", \"loss\": -52.769264221191406, \"loss_ft\": -62.42931365966797, \"loss_norm\": 0.9277611374855042, \"loss_ft_l2\": 8.73228931427002}\n"
     ]
    },
    {
     "name": "stderr",
     "output_type": "stream",
     "text": [
      "INFO - 08/29/20 07:27:00 - 0:01:42 - Augmenting images\n",
      "INFO - 08/29/20 07:27:06 - 0:01:48 - __log__:{\"keyword\": \"iteration\", \"loss\": -61.093997955322266, \"loss_ft\": -70.91851806640625, \"loss_norm\": 0.9437875151634216, \"loss_ft_l2\": 8.88073444366455}\n",
      "INFO - 08/29/20 07:27:06 - 0:01:48 - Augmenting images\n",
      "INFO - 08/29/20 07:27:13 - 0:01:55 - __log__:{\"keyword\": \"iteration\", \"loss\": -59.01100540161133, \"loss_ft\": -68.97290802001953, \"loss_norm\": 0.9615516662597656, \"loss_ft_l2\": 9.000346183776855}\n",
      "INFO - 08/29/20 07:27:13 - 0:01:55 - Augmenting images\n",
      "INFO - 08/29/20 07:27:20 - 0:02:01 - __log__:{\"keyword\": \"iteration\", \"loss\": -58.30083465576172, \"loss_ft\": -68.22317504882812, \"loss_norm\": 0.9763237237930298, \"loss_ft_l2\": 8.946013450622559}\n",
      "INFO - 08/29/20 07:27:20 - 0:02:01 - Augmenting images\n",
      "INFO - 08/29/20 07:27:27 - 0:02:08 - __log__:{\"keyword\": \"iteration\", \"loss\": -52.70465087890625, \"loss_ft\": -62.89706039428711, \"loss_norm\": 0.9871989488601685, \"loss_ft_l2\": 9.205209732055664}\n",
      "INFO - 08/29/20 07:27:27 - 0:02:08 - Augmenting images\n",
      "INFO - 08/29/20 07:27:33 - 0:02:15 - __log__:{\"keyword\": \"iteration\", \"loss\": -62.411136627197266, \"loss_ft\": -72.0709228515625, \"loss_norm\": 0.999901294708252, \"loss_ft_l2\": 8.659884452819824}\n",
      "INFO - 08/29/20 07:27:33 - 0:02:15 - Augmenting images\n",
      "INFO - 08/29/20 07:27:39 - 0:02:21 - __log__:{\"keyword\": \"iteration\", \"loss\": -57.6771125793457, \"loss_ft\": -67.49031829833984, \"loss_norm\": 0.9940873980522156, \"loss_ft_l2\": 8.819119453430176}\n",
      "INFO - 08/29/20 07:27:39 - 0:02:21 - Augmenting images\n",
      "INFO - 08/29/20 07:27:46 - 0:02:27 - __log__:{\"keyword\": \"iteration\", \"loss\": -75.48936462402344, \"loss_ft\": -85.13973999023438, \"loss_norm\": 1.0048185586929321, \"loss_ft_l2\": 8.645553588867188}\n",
      "INFO - 08/29/20 07:27:46 - 0:02:27 - Augmenting images\n",
      "INFO - 08/29/20 07:27:52 - 0:02:34 - __log__:{\"keyword\": \"iteration\", \"loss\": -66.87765502929688, \"loss_ft\": -76.81413269042969, \"loss_norm\": 1.0157698392868042, \"loss_ft_l2\": 8.920703887939453}\n",
      "INFO - 08/29/20 07:27:52 - 0:02:34 - Augmenting images\n",
      "INFO - 08/29/20 07:27:58 - 0:02:40 - __log__:{\"keyword\": \"iteration\", \"loss\": -79.8830795288086, \"loss_ft\": -89.65123748779297, \"loss_norm\": 1.0207182168960571, \"loss_ft_l2\": 8.7474365234375}\n",
      "INFO - 08/29/20 07:27:58 - 0:02:40 - Augmenting images\n",
      "INFO - 08/29/20 07:28:04 - 0:02:46 - __log__:{\"keyword\": \"iteration\", \"loss\": -84.27112579345703, \"loss_ft\": -94.27391052246094, \"loss_norm\": 1.0320918560028076, \"loss_ft_l2\": 8.970693588256836}\n",
      "INFO - 08/29/20 07:28:04 - 0:02:46 - Augmenting images\n",
      "INFO - 08/29/20 07:28:10 - 0:02:52 - __log__:{\"keyword\": \"iteration\", \"loss\": -60.6005744934082, \"loss_ft\": -70.73600006103516, \"loss_norm\": 1.0383667945861816, \"loss_ft_l2\": 9.097058296203613}\n",
      "INFO - 08/29/20 07:28:10 - 0:02:52 - Augmenting images\n",
      "INFO - 08/29/20 07:28:17 - 0:02:58 - __log__:{\"keyword\": \"iteration\", \"loss\": -60.529541015625, \"loss_ft\": -70.36845397949219, \"loss_norm\": 1.0457195043563843, \"loss_ft_l2\": 8.79318904876709}\n",
      "INFO - 08/29/20 07:28:17 - 0:02:58 - Augmenting images\n",
      "INFO - 08/29/20 07:28:23 - 0:03:05 - __log__:{\"keyword\": \"iteration\", \"loss\": -66.27436828613281, \"loss_ft\": -76.45663452148438, \"loss_norm\": 1.049558162689209, \"loss_ft_l2\": 9.132702827453613}\n",
      "INFO - 08/29/20 07:28:23 - 0:03:05 - Augmenting images\n",
      "INFO - 08/29/20 07:28:29 - 0:03:11 - __log__:{\"keyword\": \"iteration\", \"loss\": -71.38166809082031, \"loss_ft\": -81.39634704589844, \"loss_norm\": 1.0562045574188232, \"loss_ft_l2\": 8.958471298217773}\n",
      "INFO - 08/29/20 07:28:29 - 0:03:11 - Augmenting images\n",
      "INFO - 08/29/20 07:28:36 - 0:03:17 - __log__:{\"keyword\": \"iteration\", \"loss\": -69.49237060546875, \"loss_ft\": -79.53238677978516, \"loss_norm\": 1.063457727432251, \"loss_ft_l2\": 8.976551055908203}\n",
      "INFO - 08/29/20 07:28:36 - 0:03:17 - Augmenting images\n",
      "INFO - 08/29/20 07:28:42 - 0:03:24 - __log__:{\"keyword\": \"iteration\", \"loss\": -62.501461029052734, \"loss_ft\": -72.53216552734375, \"loss_norm\": 1.0607706308364868, \"loss_ft_l2\": 8.969935417175293}\n",
      "INFO - 08/29/20 07:28:43 - 0:03:24 - Augmenting images\n",
      "INFO - 08/29/20 07:28:49 - 0:03:31 - __log__:{\"keyword\": \"iteration\", \"loss\": -65.48902893066406, \"loss_ft\": -75.63519287109375, \"loss_norm\": 1.0657700300216675, \"loss_ft_l2\": 9.080387115478516}\n",
      "INFO - 08/29/20 07:28:49 - 0:03:31 - Augmenting images\n",
      "INFO - 08/29/20 07:28:56 - 0:03:38 - __log__:{\"keyword\": \"iteration\", \"loss\": -82.35768127441406, \"loss_ft\": -92.2451171875, \"loss_norm\": 1.0682051181793213, \"loss_ft_l2\": 8.819229125976562}\n",
      "INFO - 08/29/20 07:28:56 - 0:03:38 - Augmenting images\n",
      "INFO - 08/29/20 07:29:03 - 0:03:44 - __log__:{\"keyword\": \"iteration\", \"loss\": -71.89515686035156, \"loss_ft\": -82.19744110107422, \"loss_norm\": 1.0755279064178467, \"loss_ft_l2\": 9.226754188537598}\n",
      "INFO - 08/29/20 07:29:03 - 0:03:44 - Augmenting images\n",
      "INFO - 08/29/20 07:29:10 - 0:03:51 - __log__:{\"keyword\": \"iteration\", \"loss\": -78.55390930175781, \"loss_ft\": -88.7949447631836, \"loss_norm\": 1.0839961767196655, \"loss_ft_l2\": 9.157038688659668}\n",
      "INFO - 08/29/20 07:29:10 - 0:03:51 - Augmenting images\n",
      "INFO - 08/29/20 07:29:16 - 0:03:58 - __log__:{\"keyword\": \"iteration\", \"loss\": -75.53323364257812, \"loss_ft\": -85.61327362060547, \"loss_norm\": 1.086560845375061, \"loss_ft_l2\": 8.993480682373047}\n",
      "INFO - 08/29/20 07:29:16 - 0:03:58 - Augmenting images\n",
      "INFO - 08/29/20 07:29:23 - 0:04:05 - __log__:{\"keyword\": \"iteration\", \"loss\": -65.89775085449219, \"loss_ft\": -76.08425903320312, \"loss_norm\": 1.0873997211456299, \"loss_ft_l2\": 9.099102973937988}\n",
      "INFO - 08/29/20 07:29:23 - 0:04:05 - Augmenting images\n",
      "INFO - 08/29/20 07:29:30 - 0:04:11 - __log__:{\"keyword\": \"iteration\", \"loss\": -75.18549346923828, \"loss_ft\": -85.36951446533203, \"loss_norm\": 1.092630386352539, \"loss_ft_l2\": 9.091389656066895}\n",
      "INFO - 08/29/20 07:29:30 - 0:04:11 - Augmenting images\n",
      "INFO - 08/29/20 07:29:36 - 0:04:18 - __log__:{\"keyword\": \"iteration\", \"loss\": -83.01956176757812, \"loss_ft\": -92.96321868896484, \"loss_norm\": 1.097102403640747, \"loss_ft_l2\": 8.84656047821045}\n",
      "INFO - 08/29/20 07:29:36 - 0:04:18 - Augmenting images\n",
      "INFO - 08/29/20 07:29:42 - 0:04:24 - __log__:{\"keyword\": \"iteration\", \"loss\": -81.25101470947266, \"loss_ft\": -91.24140930175781, \"loss_norm\": 1.0983617305755615, \"loss_ft_l2\": 8.892034530639648}\n",
      "INFO - 08/29/20 07:29:42 - 0:04:24 - Augmenting images\n",
      "INFO - 08/29/20 07:29:49 - 0:04:30 - __log__:{\"keyword\": \"iteration\", \"loss\": -63.04288864135742, \"loss_ft\": -73.18563842773438, \"loss_norm\": 1.0952669382095337, \"loss_ft_l2\": 9.04748249053955}\n",
      "INFO - 08/29/20 07:29:49 - 0:04:30 - Augmenting images\n",
      "INFO - 08/29/20 07:29:55 - 0:04:37 - __log__:{\"keyword\": \"iteration\", \"loss\": -81.03704833984375, \"loss_ft\": -91.28302001953125, \"loss_norm\": 1.0986340045928955, \"loss_ft_l2\": 9.147342681884766}\n",
      "INFO - 08/29/20 07:29:55 - 0:04:37 - Augmenting images\n",
      "INFO - 08/29/20 07:30:02 - 0:04:43 - __log__:{\"keyword\": \"iteration\", \"loss\": -78.14175415039062, \"loss_ft\": -88.41887664794922, \"loss_norm\": 1.1085362434387207, \"loss_ft_l2\": 9.16858959197998}\n",
      "INFO - 08/29/20 07:30:02 - 0:04:43 - Augmenting images\n",
      "INFO - 08/29/20 07:30:08 - 0:04:50 - __log__:{\"keyword\": \"iteration\", \"loss\": -76.64765167236328, \"loss_ft\": -86.81234741210938, \"loss_norm\": 1.1112943887710571, \"loss_ft_l2\": 9.053399085998535}\n",
      "INFO - 08/29/20 07:30:08 - 0:04:50 - Augmenting images\n",
      "INFO - 08/29/20 07:30:15 - 0:04:56 - __log__:{\"keyword\": \"iteration\", \"loss\": -95.30038452148438, \"loss_ft\": -105.55284118652344, \"loss_norm\": 1.1127917766571045, \"loss_ft_l2\": 9.139664649963379}\n",
      "INFO - 08/29/20 07:30:15 - 0:04:56 - Augmenting images\n",
      "INFO - 08/29/20 07:30:21 - 0:05:03 - __log__:{\"keyword\": \"iteration\", \"loss\": -76.03575134277344, \"loss_ft\": -86.20673370361328, \"loss_norm\": 1.1174041032791138, \"loss_ft_l2\": 9.053577423095703}\n",
      "INFO - 08/29/20 07:30:21 - 0:05:03 - Augmenting images\n",
      "INFO - 08/29/20 07:30:27 - 0:05:09 - __log__:{\"keyword\": \"iteration\", \"loss\": -69.29287719726562, \"loss_ft\": -79.961181640625, \"loss_norm\": 1.118412971496582, \"loss_ft_l2\": 9.549890518188477}\n",
      "INFO - 08/29/20 07:30:27 - 0:05:09 - Augmenting images\n",
      "INFO - 08/29/20 07:30:34 - 0:05:15 - __log__:{\"keyword\": \"iteration\", \"loss\": -75.49052429199219, \"loss_ft\": -85.78158569335938, \"loss_norm\": 1.116235613822937, \"loss_ft_l2\": 9.174824714660645}\n"
     ]
    },
    {
     "name": "stderr",
     "output_type": "stream",
     "text": [
      "INFO - 08/29/20 07:30:34 - 0:05:15 - Augmenting images\n",
      "INFO - 08/29/20 07:30:40 - 0:05:22 - __log__:{\"keyword\": \"iteration\", \"loss\": -68.0633316040039, \"loss_ft\": -78.29290008544922, \"loss_norm\": 1.1179983615875244, \"loss_ft_l2\": 9.111574172973633}\n",
      "INFO - 08/29/20 07:30:40 - 0:05:22 - Augmenting images\n",
      "INFO - 08/29/20 07:30:47 - 0:05:28 - __log__:{\"keyword\": \"iteration\", \"loss\": -86.15574645996094, \"loss_ft\": -96.28007507324219, \"loss_norm\": 1.120911955833435, \"loss_ft_l2\": 9.003414154052734}\n",
      "INFO - 08/29/20 07:30:47 - 0:05:28 - Augmenting images\n",
      "INFO - 08/29/20 07:30:53 - 0:05:35 - __log__:{\"keyword\": \"iteration\", \"loss\": -74.61319732666016, \"loss_ft\": -84.78508758544922, \"loss_norm\": 1.1171156167984009, \"loss_ft_l2\": 9.054769515991211}\n",
      "INFO - 08/29/20 07:30:53 - 0:05:35 - Augmenting images\n",
      "INFO - 08/29/20 07:31:00 - 0:05:41 - __log__:{\"keyword\": \"iteration\", \"loss\": -86.4424057006836, \"loss_ft\": -96.78111267089844, \"loss_norm\": 1.123899221420288, \"loss_ft_l2\": 9.214808464050293}\n",
      "INFO - 08/29/20 07:31:00 - 0:05:41 - Augmenting images\n",
      "INFO - 08/29/20 07:31:06 - 0:05:48 - __log__:{\"keyword\": \"iteration\", \"loss\": -91.22954559326172, \"loss_ft\": -101.54316711425781, \"loss_norm\": 1.1265076398849487, \"loss_ft_l2\": 9.187111854553223}\n",
      "INFO - 08/29/20 07:31:06 - 0:05:48 - Augmenting images\n",
      "INFO - 08/29/20 07:31:12 - 0:05:54 - __log__:{\"keyword\": \"iteration\", \"loss\": -88.50552368164062, \"loss_ft\": -98.74836730957031, \"loss_norm\": 1.1271556615829468, \"loss_ft_l2\": 9.115682601928711}\n",
      "INFO - 08/29/20 07:31:12 - 0:05:54 - Augmenting images\n",
      "INFO - 08/29/20 07:31:19 - 0:06:00 - __log__:{\"keyword\": \"iteration\", \"loss\": -80.45653533935547, \"loss_ft\": -90.85832214355469, \"loss_norm\": 1.1354987621307373, \"loss_ft_l2\": 9.266289710998535}\n",
      "INFO - 08/29/20 07:31:19 - 0:06:00 - Augmenting images\n",
      "INFO - 08/29/20 07:31:25 - 0:06:07 - __log__:{\"keyword\": \"iteration\", \"loss\": -72.41569519042969, \"loss_ft\": -83.00076293945312, \"loss_norm\": 1.1399531364440918, \"loss_ft_l2\": 9.445114135742188}\n",
      "INFO - 08/29/20 07:31:25 - 0:06:07 - Augmenting images\n",
      "INFO - 08/29/20 07:31:32 - 0:06:13 - __log__:{\"keyword\": \"iteration\", \"loss\": -83.29004669189453, \"loss_ft\": -93.76520538330078, \"loss_norm\": 1.1435905694961548, \"loss_ft_l2\": 9.331568717956543}\n",
      "INFO - 08/29/20 07:31:32 - 0:06:13 - Augmenting images\n",
      "INFO - 08/29/20 07:31:38 - 0:06:19 - __log__:{\"keyword\": \"iteration\", \"loss\": -79.30935668945312, \"loss_ft\": -89.67292022705078, \"loss_norm\": 1.1422767639160156, \"loss_ft_l2\": 9.221282958984375}\n",
      "INFO - 08/29/20 07:31:38 - 0:06:19 - Augmenting images\n",
      "INFO - 08/29/20 07:31:44 - 0:06:26 - __log__:{\"keyword\": \"iteration\", \"loss\": -71.55970764160156, \"loss_ft\": -81.99803924560547, \"loss_norm\": 1.1438804864883423, \"loss_ft_l2\": 9.294448852539062}\n",
      "INFO - 08/29/20 07:31:44 - 0:06:26 - Augmenting images\n",
      "INFO - 08/29/20 07:31:51 - 0:06:32 - __log__:{\"keyword\": \"iteration\", \"loss\": -77.02070617675781, \"loss_ft\": -87.1834716796875, \"loss_norm\": 1.1439679861068726, \"loss_ft_l2\": 9.018802642822266}\n",
      "INFO - 08/29/20 07:31:51 - 0:06:32 - Augmenting images\n",
      "INFO - 08/29/20 07:31:57 - 0:06:38 - __log__:{\"keyword\": \"iteration\", \"loss\": -74.4522933959961, \"loss_ft\": -84.91838836669922, \"loss_norm\": 1.1356614828109741, \"loss_ft_l2\": 9.330438613891602}\n",
      "INFO - 08/29/20 07:31:57 - 0:06:38 - Augmenting images\n",
      "INFO - 08/29/20 07:32:03 - 0:06:44 - __log__:{\"keyword\": \"iteration\", \"loss\": -79.43635559082031, \"loss_ft\": -89.69580841064453, \"loss_norm\": 1.1373413801193237, \"loss_ft_l2\": 9.122112274169922}\n",
      "INFO - 08/29/20 07:32:03 - 0:06:44 - Augmenting images\n",
      "INFO - 08/29/20 07:32:09 - 0:06:51 - __log__:{\"keyword\": \"iteration\", \"loss\": -72.26114654541016, \"loss_ft\": -82.62398529052734, \"loss_norm\": 1.1423968076705933, \"loss_ft_l2\": 9.220446586608887}\n",
      "INFO - 08/29/20 07:32:09 - 0:06:51 - Augmenting images\n",
      "INFO - 08/29/20 07:32:15 - 0:06:57 - __log__:{\"keyword\": \"iteration\", \"loss\": -72.09456634521484, \"loss_ft\": -82.58806610107422, \"loss_norm\": 1.146755576133728, \"loss_ft_l2\": 9.346739768981934}\n",
      "INFO - 08/29/20 07:32:15 - 0:06:57 - Augmenting images\n",
      "INFO - 08/29/20 07:32:22 - 0:07:03 - __log__:{\"keyword\": \"iteration\", \"loss\": -88.02336883544922, \"loss_ft\": -98.31155395507812, \"loss_norm\": 1.1494874954223633, \"loss_ft_l2\": 9.138696670532227}\n",
      "INFO - 08/29/20 07:32:22 - 0:07:03 - Augmenting images\n",
      "INFO - 08/29/20 07:32:28 - 0:07:09 - __log__:{\"keyword\": \"iteration\", \"loss\": -72.15800476074219, \"loss_ft\": -82.75527954101562, \"loss_norm\": 1.1549838781356812, \"loss_ft_l2\": 9.44229507446289}\n",
      "INFO - 08/29/20 07:32:28 - 0:07:09 - Augmenting images\n",
      "INFO - 08/29/20 07:32:34 - 0:07:16 - __log__:{\"keyword\": \"iteration\", \"loss\": -69.83651733398438, \"loss_ft\": -80.33284759521484, \"loss_norm\": 1.15189528465271, \"loss_ft_l2\": 9.344440460205078}\n",
      "INFO - 08/29/20 07:32:34 - 0:07:16 - Augmenting images\n",
      "INFO - 08/29/20 07:32:40 - 0:07:22 - __log__:{\"keyword\": \"iteration\", \"loss\": -67.22988891601562, \"loss_ft\": -77.9851303100586, \"loss_norm\": 1.153694987297058, \"loss_ft_l2\": 9.601545333862305}\n",
      "INFO - 08/29/20 07:32:40 - 0:07:22 - Augmenting images\n",
      "INFO - 08/29/20 07:32:47 - 0:07:28 - __log__:{\"keyword\": \"iteration\", \"loss\": -70.53665161132812, \"loss_ft\": -81.02130889892578, \"loss_norm\": 1.1525547504425049, \"loss_ft_l2\": 9.332096099853516}\n",
      "INFO - 08/29/20 07:32:47 - 0:07:28 - Augmenting images\n",
      "INFO - 08/29/20 07:32:53 - 0:07:35 - __log__:{\"keyword\": \"iteration\", \"loss\": -73.55008697509766, \"loss_ft\": -83.72700500488281, \"loss_norm\": 1.1536179780960083, \"loss_ft_l2\": 9.023303031921387}\n",
      "INFO - 08/29/20 07:32:53 - 0:07:35 - Augmenting images\n",
      "INFO - 08/29/20 07:32:59 - 0:07:41 - __log__:{\"keyword\": \"iteration\", \"loss\": -73.1324234008789, \"loss_ft\": -83.57948303222656, \"loss_norm\": 1.1458641290664673, \"loss_ft_l2\": 9.301194190979004}\n",
      "INFO - 08/29/20 07:32:59 - 0:07:41 - Augmenting images\n",
      "INFO - 08/29/20 07:33:06 - 0:07:47 - __log__:{\"keyword\": \"iteration\", \"loss\": -80.62899017333984, \"loss_ft\": -91.06587219238281, \"loss_norm\": 1.1508312225341797, \"loss_ft_l2\": 9.286048889160156}\n",
      "INFO - 08/29/20 07:33:06 - 0:07:47 - Augmenting images\n",
      "INFO - 08/29/20 07:33:12 - 0:07:53 - __log__:{\"keyword\": \"iteration\", \"loss\": -73.39203643798828, \"loss_ft\": -83.46014404296875, \"loss_norm\": 1.150291919708252, \"loss_ft_l2\": 8.917816162109375}\n",
      "INFO - 08/29/20 07:33:12 - 0:07:53 - Augmenting images\n",
      "INFO - 08/29/20 07:33:18 - 0:08:00 - __log__:{\"keyword\": \"iteration\", \"loss\": -71.4232177734375, \"loss_ft\": -81.9783935546875, \"loss_norm\": 1.1519920825958252, \"loss_ft_l2\": 9.403182983398438}\n",
      "INFO - 08/29/20 07:33:18 - 0:08:00 - Augmenting images\n",
      "INFO - 08/29/20 07:33:24 - 0:08:06 - __log__:{\"keyword\": \"iteration\", \"loss\": -67.08522033691406, \"loss_ft\": -77.51914978027344, \"loss_norm\": 1.1554044485092163, \"loss_ft_l2\": 9.278522491455078}\n",
      "INFO - 08/29/20 07:33:24 - 0:08:06 - Augmenting images\n",
      "INFO - 08/29/20 07:33:31 - 0:08:12 - __log__:{\"keyword\": \"iteration\", \"loss\": -76.41268920898438, \"loss_ft\": -86.7346420288086, \"loss_norm\": 1.1568799018859863, \"loss_ft_l2\": 9.16507339477539}\n",
      "INFO - 08/29/20 07:33:31 - 0:08:12 - Augmenting images\n",
      "INFO - 08/29/20 07:33:37 - 0:08:18 - __log__:{\"keyword\": \"iteration\", \"loss\": -71.62001037597656, \"loss_ft\": -81.85407257080078, \"loss_norm\": 1.1610959768295288, \"loss_ft_l2\": 9.072965621948242}\n",
      "INFO - 08/29/20 07:33:37 - 0:08:18 - Augmenting images\n",
      "INFO - 08/29/20 07:33:43 - 0:08:25 - __log__:{\"keyword\": \"iteration\", \"loss\": -74.55834197998047, \"loss_ft\": -84.9319076538086, \"loss_norm\": 1.1592254638671875, \"loss_ft_l2\": 9.214340209960938}\n",
      "INFO - 08/29/20 07:33:43 - 0:08:25 - Augmenting images\n",
      "INFO - 08/29/20 07:33:49 - 0:08:31 - __log__:{\"keyword\": \"iteration\", \"loss\": -74.8258285522461, \"loss_ft\": -85.38993072509766, \"loss_norm\": 1.158373236656189, \"loss_ft_l2\": 9.405730247497559}\n",
      "INFO - 08/29/20 07:33:49 - 0:08:31 - Augmenting images\n",
      "INFO - 08/29/20 07:33:56 - 0:08:37 - __log__:{\"keyword\": \"iteration\", \"loss\": -77.31126403808594, \"loss_ft\": -87.74313354492188, \"loss_norm\": 1.158394455909729, \"loss_ft_l2\": 9.273475646972656}\n",
      "INFO - 08/29/20 07:33:56 - 0:08:37 - Augmenting images\n",
      "INFO - 08/29/20 07:34:02 - 0:08:44 - __log__:{\"keyword\": \"iteration\", \"loss\": -76.78656768798828, \"loss_ft\": -87.26802062988281, \"loss_norm\": 1.1518503427505493, \"loss_ft_l2\": 9.329606056213379}\n"
     ]
    },
    {
     "name": "stderr",
     "output_type": "stream",
     "text": [
      "INFO - 08/29/20 07:34:02 - 0:08:44 - Augmenting images\n",
      "INFO - 08/29/20 07:34:09 - 0:08:50 - __log__:{\"keyword\": \"iteration\", \"loss\": -80.16462707519531, \"loss_ft\": -90.552001953125, \"loss_norm\": 1.1544820070266724, \"loss_ft_l2\": 9.232898712158203}\n",
      "INFO - 08/29/20 07:34:09 - 0:08:50 - Augmenting images\n",
      "INFO - 08/29/20 07:34:14 - 0:08:56 - __log__:{\"keyword\": \"iteration\", \"loss\": -71.56205749511719, \"loss_ft\": -81.89144897460938, \"loss_norm\": 1.1585023403167725, \"loss_ft_l2\": 9.17088794708252}\n",
      "INFO - 08/29/20 07:34:14 - 0:08:56 - Augmenting images\n",
      "INFO - 08/29/20 07:34:21 - 0:09:03 - __log__:{\"keyword\": \"iteration\", \"loss\": -66.34880065917969, \"loss_ft\": -76.90263366699219, \"loss_norm\": 1.1558021306991577, \"loss_ft_l2\": 9.398033142089844}\n",
      "INFO - 08/29/20 07:34:21 - 0:09:03 - Augmenting images\n",
      "INFO - 08/29/20 07:34:28 - 0:09:10 - __log__:{\"keyword\": \"iteration\", \"loss\": -74.13954162597656, \"loss_ft\": -84.4522476196289, \"loss_norm\": 1.1586270332336426, \"loss_ft_l2\": 9.154074668884277}\n",
      "INFO - 08/29/20 07:34:28 - 0:09:10 - Augmenting images\n",
      "INFO - 08/29/20 07:34:35 - 0:09:16 - __log__:{\"keyword\": \"iteration\", \"loss\": -94.26935577392578, \"loss_ft\": -104.65899658203125, \"loss_norm\": 1.1622782945632935, \"loss_ft_l2\": 9.227363586425781}\n",
      "INFO - 08/29/20 07:34:35 - 0:09:16 - Augmenting images\n",
      "INFO - 08/29/20 07:34:41 - 0:09:23 - __log__:{\"keyword\": \"iteration\", \"loss\": -88.47187805175781, \"loss_ft\": -98.85346984863281, \"loss_norm\": 1.1660869121551514, \"loss_ft_l2\": 9.215505599975586}\n",
      "INFO - 08/29/20 07:34:41 - 0:09:23 - Augmenting images\n",
      "INFO - 08/29/20 07:34:48 - 0:09:29 - __log__:{\"keyword\": \"iteration\", \"loss\": -72.71409606933594, \"loss_ft\": -83.10520935058594, \"loss_norm\": 1.167645812034607, \"loss_ft_l2\": 9.223468780517578}\n",
      "INFO - 08/29/20 07:34:48 - 0:09:29 - Augmenting images\n",
      "INFO - 08/29/20 07:34:54 - 0:09:36 - __log__:{\"keyword\": \"iteration\", \"loss\": -78.64347076416016, \"loss_ft\": -89.10368347167969, \"loss_norm\": 1.1715209484100342, \"loss_ft_l2\": 9.288688659667969}\n",
      "INFO - 08/29/20 07:34:57 - 0:09:38 - __log__:{\"keyword\": \"final\", \"psnr\": 31.21347725369864, \"ft_direction\": 2.992882490158081, \"ft_norm\": 17.59595489501953, \"rho\": -1, \"R\": -15805.7099609375}\n"
     ]
    }
   ],
   "source": [
    "%run make_data_radioactive.py"
   ]
  },
  {
   "cell_type": "markdown",
   "metadata": {},
   "source": [
    "<h2>Inspect Our New Images</h2>"
   ]
  },
  {
   "cell_type": "code",
   "execution_count": 166,
   "metadata": {},
   "outputs": [
    {
     "data": {
      "image/png": "[encoded data removed]",
      "text/plain": [
       "<Figure size 432x288 with 2 Axes>"
      ]
     },
     "metadata": {
      "needs_background": "light"
     },
     "output_type": "display_data"
    }
   ],
   "source": [
    "import torch\n",
    "import numpy as np\n",
    "import PIL\n",
    "from matplotlib import pyplot as plt\n",
    "import glob\n",
    "import random\n",
    "import os\n",
    "\n",
    "def loadImageRGB(path):\n",
    "    with open(path, 'rb') as f:\n",
    "        img = Image.open(f)\n",
    "        return img.convert('RGB')\n",
    "    \n",
    "radioactive_images = glob.glob('data/dump/*.npy')\n",
    "radioactive_image_path = random.choice(radioactive_images)\n",
    "original_image_path = f\"data/img/{os.path.basename(radioactive_image_path)}\".replace(\"npy\", \"png\")\n",
    "\n",
    "original_img = loadImageRGB(original_image_path)\n",
    "radioactive_img = np.load(radioactive_image_path)\n",
    "\n",
    "fig, (ax1, ax2) = plt.subplots(1, 2)\n",
    "ax1.imshow(original_img)\n",
    "ax1.set_title(\"Original Image\")\n",
    "ax2.imshow(radioactive_img)\n",
    "ax2.set_title(\"Radioactive Image\")\n",
    "plt.show()\n"
   ]
  },
  {
   "cell_type": "markdown",
   "metadata": {},
   "source": [
    "<h1>Training A Model</h1>\n",
    "<p>Work in progress...</p>"
   ]
  },
  {
   "cell_type": "code",
   "execution_count": null,
   "metadata": {},
   "outputs": [],
   "source": [
    "import torch\n",
    "import glob\n",
    "import re\n",
    "\n",
    "radioactive_image_paths = glob.glob('data/dump/*.npy')\n",
    "\n",
    "#search using regex\n",
    "content = {}\n",
    "for path in radioactive_image_paths:\n",
    "    img_id = re.search('[0-9]+', path)\n",
    "    content[img_id[0]] = path \n",
    "\n",
    "torch.save({\n",
    "  'type': 'per_sample',\n",
    "  'content': content\n",
    "}, \"data/radioactive_data.pth\")\n",
    "print(\"Radioactive image paths saved\")"
   ]
  },
  {
   "cell_type": "code",
   "execution_count": null,
   "metadata": {},
   "outputs": [],
   "source": [
    "%%writefile config_train_classif.toml\n",
    "dump_path = \"data/dump\"\n",
    "exp_name = \"bypass\"\n",
    "save_periodic = 0\n",
    "exp_id = \"\"\n",
    "nb_workers = 10\n",
    "fp16 = false\n",
    "dataset = \"cifar10\"\n",
    "num_classes = -1\n",
    "architecture = \"resnet18\"\n",
    "non_linearity = \"relu\"\n",
    "pretrained = false\n",
    "from_ckpt = \"\"\n",
    "load_linear = false\n",
    "train_path = \"radioactive_data.pth\"\n",
    "optimizer = \"sgd,lr=0.1-0.01-0.001,momentum=0.9,weight_decay=0.0001\"\n",
    "batch_size = 256\n",
    "epochs = 90\n",
    "stopping_criterion = \"\"\n",
    "validation_metrics = \"\"\n",
    "train_transform = \"random\"\n",
    "seed = 0\n",
    "only_train_linear = false\n",
    "reload_model = \"\"\n",
    "eval_only = false\n",
    "debug_train = false\n",
    "debug_slurm = false\n",
    "debug = true\n",
    "local_rank = -1\n",
    "master_port = -1\n",
    "use_cpu = true\n"
   ]
  },
  {
   "cell_type": "code",
   "execution_count": null,
   "metadata": {},
   "outputs": [],
   "source": [
    "%run train-classif.py"
   ]
  }
 ],
 "metadata": {
  "kernelspec": {
   "display_name": "Python 3",
   "language": "python",
   "name": "python3"
  },
  "language_info": {
   "codemirror_mode": {
    "name": "ipython",
    "version": 3
   },
   "file_extension": ".py",
   "mimetype": "text/x-python",
   "name": "python",
   "nbconvert_exporter": "python",
   "pygments_lexer": "ipython3",
   "version": "3.8.5"
  }
 },
 "nbformat": 4,
 "nbformat_minor": 4
}
