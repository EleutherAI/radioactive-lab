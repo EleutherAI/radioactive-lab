{
 "cells": [
  {
   "cell_type": "markdown",
   "metadata": {},
   "source": [
    "<h1>Creating Radioactive Data (Image Marking)</h1>"
   ]
  },
  {
   "cell_type": "markdown",
   "metadata": {},
   "source": [
    "<h2>Download & Save Pretrained Resnet18</h2>"
   ]
  },
  {
   "cell_type": "code",
   "execution_count": 1,
   "metadata": {},
   "outputs": [],
   "source": [
    "import torch\n",
    "from torchvision import models\n",
    "\n",
    "resnet18 = models.resnet18(pretrained=True)\n",
    "torch.save({\n",
    "    \"model\": resnet18.state_dict(),\n",
    "    \"params\": {\n",
    "      \"architecture\": \"resnet18\",\n",
    "      \"num_classes\": 1000,\n",
    "    }\n",
    "  }, \"data/pretrained_resnet18.pth\")"
   ]
  },
  {
   "cell_type": "markdown",
   "metadata": {},
   "source": [
    "<h2>Create Random Carriers</h2>\n",
    "<p>This is an array containing a random array of shape (n_classes, input_dim). This is made up of a random vector u \n",
    "for each class. See section 3 of paper for details.</p>"
   ]
  },
  {
   "cell_type": "code",
   "execution_count": 2,
   "metadata": {},
   "outputs": [
    {
     "name": "stdout",
     "output_type": "stream",
     "text": [
      "Carrier Shape: torch.Size([1000, 512])\n"
     ]
    }
   ],
   "source": [
    "import torch\n",
    "\n",
    "n_classes, input_dim = 1000, 512\n",
    "carriers = torch.randn(n_classes, input_dim)\n",
    "carriers /= torch.norm(carriers, dim=1, keepdim=True)\n",
    "print(\"Carrier Shape:\", carriers.shape)\n",
    "torch.save(carriers, \"data/carriers.pth\")"
   ]
  },
  {
   "cell_type": "markdown",
   "metadata": {},
   "source": [
    "<h2>Run make_data_radioactive.py</h2>\n",
    "<p>The original code used input parameters but I have converted this to a config file out of taste preference</p> "
   ]
  },
  {
   "cell_type": "code",
   "execution_count": null,
   "metadata": {},
   "outputs": [],
   "source": [
    "# %load config.toml\n",
    "dump_path = \"data/dump\"\n",
    "exp_name = \"bypass\"\n",
    "exp_id = \"\"\n",
    "img_size = 256\n",
    "crop_size = 224\n",
    "data_augmentation = \"random\"\n",
    "radius = 10\n",
    "epochs = 90\n",
    "lambda_ft_l2 = 0.01\n",
    "lambda_l2_img = 0.0005\n",
    "optimizer = \"sgd,lr=1.0\"\n",
    "carrier_path = \"data/carriers.pth\"\n",
    "carrier_id = 0\n",
    "half_cone = true\n",
    "img_paths = \"data/img/muss_loss.png\"\n",
    "marking_network = \"data/pretrained_resnet18.pth\"\n",
    "debug_train = false\n",
    "debug_slurm = false\n",
    "debug = false\n"
   ]
  },
  {
   "cell_type": "code",
   "execution_count": null,
   "metadata": {
    "scrolled": true
   },
   "outputs": [],
   "source": [
    "%run make_data_radioactive.py"
   ]
  },
  {
   "cell_type": "markdown",
   "metadata": {},
   "source": [
    "<h1>Training A Model</h1>\n",
    "<p>To do next...</p>"
   ]
  },
  {
   "cell_type": "code",
   "execution_count": null,
   "metadata": {},
   "outputs": [],
   "source": [
    "import torchvision\n",
    "\n",
    "# Download CIFAR 10\n",
    "torchvision.datasets.CIFAR10(root=\"data/\", download=True)\n"
   ]
  }
 ],
 "metadata": {
  "kernelspec": {
   "display_name": "Python 3",
   "language": "python",
   "name": "python3"
  },
  "language_info": {
   "codemirror_mode": {
    "name": "ipython",
    "version": 3
   },
   "file_extension": ".py",
   "mimetype": "text/x-python",
   "name": "python",
   "nbconvert_exporter": "python",
   "pygments_lexer": "ipython3",
   "version": "3.8.5"
  }
 },
 "nbformat": 4,
 "nbformat_minor": 4
}
